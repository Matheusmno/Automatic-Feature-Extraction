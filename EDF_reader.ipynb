{
 "cells": [
  {
   "cell_type": "code",
   "execution_count": null,
   "metadata": {},
   "outputs": [],
   "source": [
    "import pyedflib\n",
    "from pathlib import Path\n",
    "import os\n",
    "import numpy as np\n",
    "from contextlib import ExitStack"
   ]
  },
  {
   "cell_type": "code",
   "execution_count": null,
   "metadata": {},
   "outputs": [],
   "source": [
    "class SignalFile():\n",
    "    def __init__(self, file_path: Path) -> None:\n",
    "        self.filename = file_path.name\n",
    "        self.file = pyedflib.EdfReader(self.filename)\n",
    "        self.signals = self.file.signals_in_file\n",
    "        self.labels = self.file.getSignalLabels()\n",
    "        self.sample_rate = self.file.getSampleFrequencies()\n",
    "\n",
    "    def load_signal_buffers(self):\n",
    "        sigbufs = np.zeros((self.signals, self.file.getNSamples()[0]))\n",
    "\n",
    "        for i in np.arange(self.signals):\n",
    "            sigbufs[i, :] = self.file.readSignal(i)\n",
    "\n",
    "        return list(zip(self.labels, sigbufs))\n",
    "    \n",
    "    def close_file(self):\n",
    "        self.file.close()\n",
    "    \n",
    "\n",
    "def read_files_from_dir(directory: Path):\n",
    "    extensions = [\"edf\", \"bdf\"]\n",
    "\n",
    "    with ExitStack() as stack:\n",
    "        files = [SignalFile(stack.enter_context(open(file.path, 'rb'))) for file in os.scandir(directory)\n",
    "                 if file.is_file() and file.name.endswith(tuple(extensions))]\n",
    "\n",
    "        return files\n",
    "        \n",
    "\n",
    "if __name__ == \"__main__\":\n",
    "    directory = Path(\"data/edf/\")\n",
    "    files = read_files_from_dir(directory)\n"
   ]
  }
 ],
 "metadata": {
  "kernelspec": {
   "display_name": "base",
   "language": "python",
   "name": "python3"
  },
  "language_info": {
   "codemirror_mode": {
    "name": "ipython",
    "version": 3
   },
   "file_extension": ".py",
   "mimetype": "text/x-python",
   "name": "python",
   "nbconvert_exporter": "python",
   "pygments_lexer": "ipython3",
   "version": "3.9.13"
  },
  "orig_nbformat": 4
 },
 "nbformat": 4,
 "nbformat_minor": 2
}
