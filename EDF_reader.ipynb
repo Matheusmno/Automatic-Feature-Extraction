{
 "cells": [
  {
   "cell_type": "code",
   "execution_count": 1,
   "metadata": {},
   "outputs": [],
   "source": [
    "import pyedflib\n",
    "import matplotlib.pyplot as plt\n",
    "from pathlib import Path\n",
    "import os\n",
    "import numpy as np\n",
    "from scipy.signal import butter, filtfilt"
   ]
  },
  {
   "cell_type": "code",
   "execution_count": 20,
   "metadata": {},
   "outputs": [],
   "source": [
    "class EDFFile:\n",
    "    def __init__(self, file_path):\n",
    "        self.file_path = file_path\n",
    "        self.file_handle = None\n",
    "        self.signal_headers = None\n",
    "        self.sample_frequency = None\n",
    "        self.raw_signals = []\n",
    "        self.filtered_signals = []\n",
    "        self.annotations = []\n",
    "        \n",
    "    def load_raw_signals(self):\n",
    "        if self.file_handle is None:\n",
    "            self.file_handle = pyedflib.EdfReader(self.file_path)\n",
    "            \n",
    "        num_signals = self.file_handle.signals_in_file\n",
    "        \n",
    "        for i in range(num_signals):\n",
    "            signal_buffer = self.file_handle.readSignal(i)\n",
    "            self.raw_signals.append(signal_buffer)\n",
    "    \n",
    "    def load_signal_headers(self):\n",
    "        if self.file_handle is None:\n",
    "            self.file_handle = pyedflib.EdfReader(self.file_path)\n",
    "\n",
    "        self.signal_headers = self.file_handle.getSignalHeaders()\n",
    "\n",
    "    def load_annotations(self):\n",
    "        if self.file_handle is None:\n",
    "            self.file_handle = pyedflib.EdfReader(self.file_path)\n",
    "        \n",
    "        self.annotations = self.file_handle.readAnnotations()\n",
    "\n",
    "    def load_sample_frequency(self):\n",
    "        if self.file_handle is None:\n",
    "            self.file_handle = pyedflib.EdfReader(self.file_path)\n",
    "        \n",
    "        self.sample_frequency = self.file_handle.getSampleFrequencies()[0]\n",
    "\n",
    "    def butterworth_filter(self, signal, cutoff, order:int=3, f_type='low'):\n",
    "        nyquist = 0.5 * self.sample_frequency\n",
    "        normalized_cutoff = cutoff / nyquist\n",
    "        b, a = butter(order, normalized_cutoff, btype=f_type, analog=True)\n",
    "        \n",
    "        return filtfilt(b, a, signal)\n",
    "\n",
    "    # def filter_signals(self, filter_func, signal_labels):\n",
    "    #     butterworth_lowpass = filter(lambda t: t[0].split()[0] in ['BI', 'Atmung/Respiration'], self.raw_signals)\n",
    "    #     butterworth_lowpass_filtered = [(label, filter_func(signal, 15, 3, 'low')) \n",
    "    #                                     for label, signal in butterworth_lowpass]\n",
    "\n",
    "    #     butterworth_highpass = filter(lambda t: t[0].split()[0] in ['EMG'], self.raw_signals)\n",
    "    #     butterworth_highpass_filtered = [(label, filter_func(signal, 15, 3, 'high')) \n",
    "    #                                     for label, signal in butterworth_highpass]\n",
    "\n",
    "    #     self.filtered_signals = butterworth_highpass_filtered + butterworth_lowpass_filtered\n",
    "    \n",
    "    def filter_signals(self, func:dict, signal_labels=['BI', 'Atmung/Respiration']):\n",
    "        signals = filter(lambda l : l[0][\"label\"].split()[0] in signal_labels, \n",
    "                         zip(self.signal_headers, self.raw_signals))\n",
    "        \n",
    "        return [func[\"function\"](signal, func[\"cutoff\"], headers[\"sample_rate\"], func[\"order\"], func[\"f_type\"])\n",
    "                for headers, signal in signals]\n",
    "        \n",
    "    def close(self):\n",
    "        if self.file_handle is not None:\n",
    "            self.file_handle.close()\n",
    "            self.file_handle = None"
   ]
  },
  {
   "cell_type": "code",
   "execution_count": 21,
   "metadata": {},
   "outputs": [],
   "source": [
    "def butterworth_filter(signal, cutoff, fs, order:int=3, f_type='low'):\n",
    "    nyquist = 0.5 * fs\n",
    "    normalized_cutoff = cutoff / nyquist\n",
    "    b, a = butter(order, normalized_cutoff, btype=f_type, analog=True)\n",
    "    \n",
    "    return filtfilt(b, a, signal)"
   ]
  },
  {
   "cell_type": "code",
   "execution_count": 22,
   "metadata": {},
   "outputs": [],
   "source": [
    "def read_files_from_dir(directory: Path):\n",
    "    extensions = [\"edf\", \"bdf\"]\n",
    "\n",
    "    return [EDFFile(file.path) for file in os.scandir(directory) \n",
    "            if file.is_file() and file.name.endswith(tuple(extensions))]"
   ]
  },
  {
   "cell_type": "code",
   "execution_count": 23,
   "metadata": {},
   "outputs": [],
   "source": [
    "directory = Path(\"data/edf/\")\n",
    "files = read_files_from_dir(directory)\n",
    "\n",
    "for signal_file in files:\n",
    "    signal_file.load_raw_signals()\n",
    "    signal_file.load_signal_headers()\n",
    "    signal_file.load_annotations()\n",
    "    signal_file.load_sample_frequency()\n",
    "    #signal_file.filter_signals()\n",
    "    # # Accessing signal data:\n",
    "    # for signal_name, signal_buffer in signal_file.signals:\n",
    "    #     print(f'Signal: {signal_name}')\n",
    "    #     print(f'Buffer: {signal_buffer}')\n",
    "    #signal_file.close()"
   ]
  },
  {
   "cell_type": "code",
   "execution_count": null,
   "metadata": {},
   "outputs": [],
   "source": [
    "for file in files:\n",
    "    file.close()"
   ]
  },
  {
   "cell_type": "code",
   "execution_count": 34,
   "metadata": {},
   "outputs": [],
   "source": [
    "filtered = files[0].filter_signals(func={\"function\": butterworth_filter, \"order\": 3, \"cutoff\": 15, \"f_type\": \"low\"})"
   ]
  },
  {
   "cell_type": "code",
   "execution_count": 32,
   "metadata": {},
   "outputs": [
    {
     "data": {
      "text/plain": [
       "array([-3.29887007e+00,  4.98973220e+00,  4.99647129e+00, ...,\n",
       "        7.58485959e-06,  7.58485959e-06,  7.58485959e-06])"
      ]
     },
     "execution_count": 32,
     "metadata": {},
     "output_type": "execute_result"
    }
   ],
   "source": [
    "files[0].raw_signals[2]"
   ]
  },
  {
   "cell_type": "code",
   "execution_count": 33,
   "metadata": {},
   "outputs": [
    {
     "data": {
      "text/plain": [
       "[<matplotlib.lines.Line2D at 0x14cddc88ee0>]"
      ]
     },
     "execution_count": 33,
     "metadata": {},
     "output_type": "execute_result"
    },
    {
     "data": {
      "image/png": "[encoded data removed]",
      "text/plain": [
       "<Figure size 640x480 with 1 Axes>"
      ]
     },
     "metadata": {},
     "output_type": "display_data"
    }
   ],
   "source": [
    "plt.plot(files[0].raw_signals[2])"
   ]
  },
  {
   "cell_type": "code",
   "execution_count": 35,
   "metadata": {},
   "outputs": [
    {
     "data": {
      "text/plain": [
       "[<matplotlib.lines.Line2D at 0x14cdeadf9d0>]"
      ]
     },
     "execution_count": 35,
     "metadata": {},
     "output_type": "execute_result"
    },
    {
     "data": {
      "image/png": "[encoded data removed]",
      "text/plain": [
       "<Figure size 640x480 with 1 Axes>"
      ]
     },
     "metadata": {},
     "output_type": "display_data"
    }
   ],
   "source": [
    "plt.plot(filtered[0])"
   ]
  },
  {
   "cell_type": "code",
   "execution_count": null,
   "metadata": {},
   "outputs": [],
   "source": [
    "# Usage example\n",
    "signal = files[0].raw_signals[2][1]\n",
    "fs = files[0].file_handle.getSampleFrequencies()[0]\n",
    "filtered_signal = files[0].apply_butterworth(signal, 15, 3, 'low') # Let it be dynamic - integrate with GUI"
   ]
  },
  {
   "cell_type": "code",
   "execution_count": null,
   "metadata": {},
   "outputs": [],
   "source": [
    "plt.plot(files[3].raw_signals[-2][1])"
   ]
  },
  {
   "cell_type": "code",
   "execution_count": null,
   "metadata": {},
   "outputs": [],
   "source": [
    "plt.plot(files[3].filtered_signals[-1][1])"
   ]
  },
  {
   "attachments": {},
   "cell_type": "markdown",
   "metadata": {},
   "source": [
    "# Save EDF file file.name + _filtered.edf"
   ]
  },
  {
   "cell_type": "code",
   "execution_count": null,
   "metadata": {},
   "outputs": [],
   "source": [
    "from pyedflib import highlevel\n",
    "\n",
    "# write an edf file\n",
    "signals = []\n",
    "channel_names = []\n",
    "for channel_name, signal, fs in butterworth_highpass_filtered + butterworth_lowpass_filtered:\n",
    "    channel_names.append(channel_name)\n",
    "    signals.append(signal)\n",
    "\n",
    "signal_headers = highlevel.make_signal_headers(channel_names, sample_frequency=fs)\n",
    "header = highlevel.make_header(patientname='patient', gender='Female')\n",
    "if highlevel.write_edf('edf_file_filtered.edf', signals, signal_headers, header):\n",
    "    print(\"The file has been successfully saved.\")\n",
    "else:\n",
    "    print(\"Something went wrong with the saving process.\")"
   ]
  },
  {
   "cell_type": "code",
   "execution_count": null,
   "metadata": {},
   "outputs": [],
   "source": [
    "t = EDFFile(\"edf_file_filtered.edf\")"
   ]
  },
  {
   "cell_type": "code",
   "execution_count": null,
   "metadata": {},
   "outputs": [],
   "source": [
    "plt.plot(t.signals[2][1])"
   ]
  }
 ],
 "metadata": {
  "kernelspec": {
   "display_name": "base",
   "language": "python",
   "name": "python3"
  },
  "language_info": {
   "codemirror_mode": {
    "name": "ipython",
    "version": 3
   },
   "file_extension": ".py",
   "mimetype": "text/x-python",
   "name": "python",
   "nbconvert_exporter": "python",
   "pygments_lexer": "ipython3",
   "version": "3.9.13"
  },
  "orig_nbformat": 4
 },
 "nbformat": 4,
 "nbformat_minor": 2
}
