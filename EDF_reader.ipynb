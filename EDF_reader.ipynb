{
 "cells": [
  {
   "attachments": {},
   "cell_type": "markdown",
   "metadata": {},
   "source": [
    "# Libraries"
   ]
  },
  {
   "cell_type": "code",
   "execution_count": null,
   "metadata": {},
   "outputs": [],
   "source": [
    "import pyedflib\n",
    "import plotly.express as px\n",
    "from pathlib import Path\n",
    "import os\n",
    "import numpy as np\n",
    "from scipy.signal import butter, filtfilt"
   ]
  },
  {
   "attachments": {},
   "cell_type": "markdown",
   "metadata": {},
   "source": [
    "# EDF class"
   ]
  },
  {
   "cell_type": "code",
   "execution_count": null,
   "metadata": {},
   "outputs": [],
   "source": [
    "class EDFFile:\n",
    "    def __init__(self, file: Path):\n",
    "        self.file_path = file.absolute().as_posix()\n",
    "        self.file_name = file.name\n",
    "        self.file_handle = None\n",
    "        self.signal_headers = None\n",
    "        self.sample_frequency = None\n",
    "        self.raw_signals = []\n",
    "        self.filtered_signals = []\n",
    "        self.annotations = []\n",
    "        \n",
    "    def load_raw_signals(self):\n",
    "        if self.file_handle is None:\n",
    "            self.file_handle = pyedflib.EdfReader(self.file_path)\n",
    "            \n",
    "        num_signals = self.file_handle.signals_in_file\n",
    "        \n",
    "        for i in range(num_signals):\n",
    "            signal_buffer = self.file_handle.readSignal(i)\n",
    "            self.raw_signals.append(signal_buffer)\n",
    "    \n",
    "    def load_signal_headers(self):\n",
    "        if self.file_handle is None:\n",
    "            self.file_handle = pyedflib.EdfReader(self.file_path)\n",
    "\n",
    "        self.signal_headers = self.file_handle.getSignalHeaders()\n",
    "\n",
    "    def load_annotations(self):\n",
    "        if self.file_handle is None:\n",
    "            self.file_handle = pyedflib.EdfReader(self.file_path)\n",
    "        \n",
    "        self.annotations = self.file_handle.readAnnotations()\n",
    "\n",
    "    def load_sample_frequency(self):\n",
    "        if self.file_handle is None:\n",
    "            self.file_handle = pyedflib.EdfReader(self.file_path)\n",
    "        \n",
    "        self.sample_frequency = self.file_handle.getSampleFrequencies()[0]\n",
    "    \n",
    "    # def filter_signals(self, payload:dict, signal_labels=['BI', 'Atmung/Respiration']):\n",
    "    #     signals = filter(lambda l : l[0][\"label\"].split()[0] in signal_labels, \n",
    "    #                      zip(self.signal_headers, self.raw_signals))\n",
    "        \n",
    "    #     filtered = [payload[\"function\"](signal, headers[\"sample_rate\"], payload[\"cutoff\"], payload[\"order\"], payload[\"f_type\"])\n",
    "    #             for headers, signal in signals]  # Make it kwargs\n",
    "        \n",
    "    #     self.filtered_signals = filtered\n",
    "        \n",
    "    #     return filtered\n",
    "        \n",
    "    def close(self):\n",
    "        if self.file_handle is not None:\n",
    "            self.file_handle.close()\n",
    "            self.file_handle = None"
   ]
  },
  {
   "cell_type": "code",
   "execution_count": null,
   "metadata": {},
   "outputs": [],
   "source": [
    "def read_files_from_dir(directory: Path):\n",
    "    extensions = [\"edf\", \"bdf\"]\n",
    "\n",
    "    return [EDFFile(Path(file)) for file in os.scandir(directory) \n",
    "            if file.is_file() and file.name.endswith(tuple(extensions))]"
   ]
  },
  {
   "attachments": {},
   "cell_type": "markdown",
   "metadata": {},
   "source": [
    "# Filter design"
   ]
  },
  {
   "cell_type": "code",
   "execution_count": null,
   "metadata": {},
   "outputs": [],
   "source": [
    "def apply_butterworth_lowpass(signal, cutoff, fs, order=3):\n",
    "    nyquist = 0.5 * fs\n",
    "    normalized_cutoff = cutoff / nyquist\n",
    "    b, a = butter(order, normalized_cutoff, btype='low', analog=False)\n",
    "    filtered_signal = filtfilt(b, a, signal)\n",
    "    \n",
    "    return filtered_signal\n",
    "\n",
    "def apply_notch_filter(signal, notch_freq, fs):\n",
    "    nyquist = 0.5 * fs\n",
    "    notch_normalized = notch_freq / nyquist\n",
    "    b, a = butter(2, [notch_normalized - 0.02, notch_normalized + 0.02], btype='bandstop', analog=False)\n",
    "    filtered_signal = filtfilt(b, a, signal)\n",
    "    \n",
    "    return filtered_signal\n",
    "\n",
    "def apply_butterworth_filters(signal, cutoff, fs, order=3, notch_frequencies=None):\n",
    "    # Apply low-pass filter\n",
    "    filtered_signal = apply_butterworth_lowpass(signal, cutoff, fs, order)\n",
    "\n",
    "    # Apply notch filters\n",
    "    if notch_frequencies is not None:\n",
    "        for notch_freq in notch_frequencies:\n",
    "            filtered_signal = apply_notch_filter(filtered_signal, notch_freq, fs)\n",
    "\n",
    "    return filtered_signal"
   ]
  },
  {
   "cell_type": "code",
   "execution_count": null,
   "metadata": {},
   "outputs": [],
   "source": [
    "directory = Path(\"data/edf/\")\n",
    "files = read_files_from_dir(directory)"
   ]
  },
  {
   "cell_type": "code",
   "execution_count": null,
   "metadata": {},
   "outputs": [],
   "source": [
    "# Dict to specify which functions to apply to the signals\n",
    "#payload={\"function\": butterworth_filter, \"order\": 3, \"cutoff\": 15, \"f_type\": \"low\"}\n",
    "\n",
    "for signal_file in files:\n",
    "    signal_file.load_raw_signals()\n",
    "    signal_file.load_signal_headers()\n",
    "    signal_file.load_annotations()\n",
    "    signal_file.load_sample_frequency()\n",
    "    #signal_file.filter_signals(payload)"
   ]
  },
  {
   "attachments": {},
   "cell_type": "markdown",
   "metadata": {},
   "source": [
    "# Visualization"
   ]
  },
  {
   "cell_type": "code",
   "execution_count": null,
   "metadata": {},
   "outputs": [],
   "source": [
    "px.line(files[-2].raw_signals[0])"
   ]
  },
  {
   "cell_type": "code",
   "execution_count": null,
   "metadata": {},
   "outputs": [],
   "source": [
    "px.line(apply_butterworth_filters(files[-2].raw_signals[0], 15, files[-2].sample_frequency, 3, [50, 100, 150]))"
   ]
  },
  {
   "attachments": {},
   "cell_type": "markdown",
   "metadata": {},
   "source": [
    "# Testing zone"
   ]
  },
  {
   "attachments": {},
   "cell_type": "markdown",
   "metadata": {},
   "source": [
    "## Save EDF file file.name + _filtered.edf"
   ]
  },
  {
   "cell_type": "code",
   "execution_count": null,
   "metadata": {},
   "outputs": [],
   "source": [
    "from pyedflib import highlevel\n",
    "\n",
    "# write an edf file\n",
    "signals = []\n",
    "channel_names = []\n",
    "\n",
    "for channel_name, signal, fs in self.filtered_signals:\n",
    "    channel_names.append(channel_name)\n",
    "    signals.append(signal)\n",
    "\n",
    "signal_headers = highlevel.make_signal_headers(channel_names, sample_frequency=fs)\n",
    "\n",
    "header = highlevel.make_header(patientname='patient', gender='Female')\n",
    "\n",
    "if highlevel.write_edf(f'{self.file_name}_filtered.edf', signals, signal_headers, header):\n",
    "    print(\"The file has been successfully saved.\")\n",
    "else:\n",
    "    print(\"Something went wrong with the saving process.\")"
   ]
  },
  {
   "cell_type": "code",
   "execution_count": null,
   "metadata": {},
   "outputs": [],
   "source": [
    " modified_data = [signal * modification_factor for signal in signal_data]\n",
    "\n",
    "new_edf_file = pyedflib.EdfWriter(output_file_path, num_signals)\n",
    "for i in range(num_signals):\n",
    "    new_edf_file.setSignalHeader(i, label=signal_labels[i], samplefrequency=sample_frequency[i])\n",
    "\n",
    "for i in range(num_signals):\n",
    "    new_edf_file.writeSignal(i, modified_data[i])\n",
    "\n",
    "edf_file.close()\n",
    "new_edf_file.close()"
   ]
  },
  {
   "cell_type": "code",
   "execution_count": null,
   "metadata": {},
   "outputs": [],
   "source": [
    "t = EDFFile(f'filtered/{self.file_name}.edf')"
   ]
  },
  {
   "cell_type": "code",
   "execution_count": null,
   "metadata": {},
   "outputs": [],
   "source": [
    "for file in files:\n",
    "    file.close()"
   ]
  }
 ],
 "metadata": {
  "kernelspec": {
   "display_name": "base",
   "language": "python",
   "name": "python3"
  },
  "language_info": {
   "codemirror_mode": {
    "name": "ipython",
    "version": 3
   },
   "file_extension": ".py",
   "mimetype": "text/x-python",
   "name": "python",
   "nbconvert_exporter": "python",
   "pygments_lexer": "ipython3",
   "version": "3.9.6"
  },
  "orig_nbformat": 4
 },
 "nbformat": 4,
 "nbformat_minor": 2
}
