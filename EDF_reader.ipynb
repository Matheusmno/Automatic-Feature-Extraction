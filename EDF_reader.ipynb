{
 "cells": [
  {
   "attachments": {},
   "cell_type": "markdown",
   "metadata": {},
   "source": [
    "# Libraries"
   ]
  },
  {
   "cell_type": "code",
   "execution_count": 1,
   "metadata": {},
   "outputs": [],
   "source": [
    "import pyedflib\n",
    "import plotly.express as px\n",
    "from pathlib import Path\n",
    "import os\n",
    "import numpy as np\n",
    "from scipy.signal import butter, filtfilt"
   ]
  },
  {
   "attachments": {},
   "cell_type": "markdown",
   "metadata": {},
   "source": [
    "# EDF class"
   ]
  },
  {
   "cell_type": "code",
   "execution_count": 18,
   "metadata": {},
   "outputs": [],
   "source": [
    "class EDFFile:\n",
    "    def __init__(self, file: Path):\n",
    "        self.file_path = file.absolute().as_posix()\n",
    "        self.file_name = file.name\n",
    "        self.file_handle = pyedflib.EdfReader(self.file_path)\n",
    "        self.file_header = self.file_handle.getHeader()\n",
    "        self.signal_headers = None\n",
    "        self.num_signals = self.file_handle.signals_in_file\n",
    "        self.sample_frequency = None\n",
    "        self.signals = []\n",
    "        self.annotations = []\n",
    "        \n",
    "        self.load_raw_signals()\n",
    "        self.load_signal_headers()\n",
    "        self.load_annotations()\n",
    "        self.load_sample_frequency()\n",
    "        \n",
    "        self.close()\n",
    "        \n",
    "    def load_raw_signals(self):\n",
    "        \n",
    "        for i in range(self.num_signals):\n",
    "            signal_buffer = self.file_handle.readSignal(i)\n",
    "            self.signals.append(signal_buffer)\n",
    "    \n",
    "    def load_signal_headers(self):\n",
    "        if self.file_handle is None:\n",
    "            self.file_handle = pyedflib.EdfReader(self.file_path)\n",
    "\n",
    "        self.signal_headers = self.file_handle.getSignalHeaders()\n",
    "\n",
    "    def load_annotations(self):\n",
    "        if self.file_handle is None:\n",
    "            self.file_handle = pyedflib.EdfReader(self.file_path)\n",
    "        \n",
    "        self.annotations = self.file_handle.readAnnotations()\n",
    "\n",
    "    def load_sample_frequency(self):\n",
    "        if self.file_handle is None:\n",
    "            self.file_handle = pyedflib.EdfReader(self.file_path)\n",
    "        \n",
    "        self.sample_frequency = self.file_handle.getSampleFrequencies()[0]\n",
    "        \n",
    "        return self.sample_frequency\n",
    "    \n",
    "    def save_edf_filtered(self, output_path: Path, signals: np.ndarray):\n",
    "        # Create a new EDF file to write the modified signals into\n",
    "        new_file = pyedflib.EdfWriter(output_path / f'{self.file_name}.edf', n_channels=self.num_signals, file_type=pyedflib.FILETYPE_EDFPLUS)\n",
    "        \n",
    "        new_file.setHeader(self.file_handle.getHeader())\n",
    "        \n",
    "        for channel, signal in enumerate(signals):\n",
    "            # Write the modified signal to the new file\n",
    "            new_file.writeSamples(channel, signal)\n",
    "            #writeSignal.send_signal(signal)\n",
    "            \n",
    "        new_file.close()\n",
    "        \n",
    "    def close(self):\n",
    "        if self.file_handle is not None:\n",
    "            self.file_handle.close()\n",
    "            self.file_handle = None"
   ]
  },
  {
   "cell_type": "code",
   "execution_count": 19,
   "metadata": {},
   "outputs": [],
   "source": [
    "def read_files_from_dir(directory: Path):\n",
    "    extensions = [\"edf\", \"bdf\"]\n",
    "\n",
    "    return [EDFFile(Path(file)) for file in os.scandir(directory) \n",
    "            if file.is_file() and file.name.endswith(tuple(extensions))]"
   ]
  },
  {
   "attachments": {},
   "cell_type": "markdown",
   "metadata": {},
   "source": [
    "# Filter design"
   ]
  },
  {
   "cell_type": "code",
   "execution_count": 20,
   "metadata": {},
   "outputs": [],
   "source": [
    "def apply_butterworth_lowpass(signal, cutoff, fs, order=3):\n",
    "    nyquist = 0.5 * fs\n",
    "    normalized_cutoff = cutoff / nyquist\n",
    "    b, a = butter(order, normalized_cutoff, btype='low', analog=False)\n",
    "    filtered_signal = filtfilt(b, a, signal)\n",
    "    \n",
    "    return filtered_signal\n",
    "\n",
    "def apply_notch_filter(signal, notch_freq, fs):\n",
    "    nyquist = 0.5 * fs\n",
    "    notch_normalized = notch_freq / nyquist\n",
    "    b, a = butter(2, [notch_normalized - 0.02, notch_normalized + 0.02], btype='bandstop', analog=False)\n",
    "    filtered_signal = filtfilt(b, a, signal)\n",
    "    \n",
    "    return filtered_signal\n",
    "\n",
    "def apply_butterworth_filters(signal, cutoff, fs, order=3, notch_frequencies=None):\n",
    "    # Apply low-pass filter\n",
    "    filtered_signal = apply_butterworth_lowpass(signal, cutoff, fs, order)\n",
    "\n",
    "    # Apply notch filters\n",
    "    if notch_frequencies is not None:\n",
    "        for notch_freq in notch_frequencies:\n",
    "            filtered_signal = apply_notch_filter(filtered_signal, notch_freq, fs)\n",
    "\n",
    "    return filtered_signal"
   ]
  },
  {
   "cell_type": "code",
   "execution_count": 21,
   "metadata": {},
   "outputs": [],
   "source": [
    "directory = Path(\"data/edf/\")\n",
    "files = read_files_from_dir(directory)"
   ]
  },
  {
   "cell_type": "code",
   "execution_count": 14,
   "metadata": {},
   "outputs": [
    {
     "data": {
      "text/plain": [
       "[array([8.49616876, 8.51417533, 8.44415179, ..., 8.87725704, 8.89326089,\n",
       "        8.90426093]),\n",
       " array([6.12751133, 6.12201817, 6.11863858, ..., 5.03062904, 5.03252983,\n",
       "        5.03506541]),\n",
       " array([-3.33334525, -3.33335002, -3.33335479, ..., -3.33358248,\n",
       "        -3.33357175, -3.33355506])]"
      ]
     },
     "execution_count": 14,
     "metadata": {},
     "output_type": "execute_result"
    }
   ],
   "source": [
    "files[-2].signals"
   ]
  },
  {
   "attachments": {},
   "cell_type": "markdown",
   "metadata": {},
   "source": [
    "# Visualization"
   ]
  },
  {
   "cell_type": "code",
   "execution_count": null,
   "metadata": {},
   "outputs": [],
   "source": [
    "px.line(files[-2].signals[0][:300])"
   ]
  },
  {
   "cell_type": "code",
   "execution_count": 15,
   "metadata": {},
   "outputs": [],
   "source": [
    "filtered_signals = apply_butterworth_filters(files[-2].signals[0], 15, files[-2].sample_frequency, 3, [50, 100, 150])"
   ]
  },
  {
   "cell_type": "code",
   "execution_count": null,
   "metadata": {},
   "outputs": [],
   "source": [
    "px.line(filtered_signals[:300])"
   ]
  },
  {
   "attachments": {},
   "cell_type": "markdown",
   "metadata": {},
   "source": [
    "# Testing zone"
   ]
  },
  {
   "attachments": {},
   "cell_type": "markdown",
   "metadata": {},
   "source": [
    "## Save EDF file file.name + _filtered.edf"
   ]
  },
  {
   "cell_type": "code",
   "execution_count": null,
   "metadata": {},
   "outputs": [],
   "source": [
    "from pyedflib import highlevel"
   ]
  },
  {
   "cell_type": "code",
   "execution_count": null,
   "metadata": {},
   "outputs": [],
   "source": [
    "signal_headers = highlevel.make_signal_headers(channel_names, sample_frequency=fs)\n",
    "\n",
    "header = highlevel.make_header(patientname='patient', gender='Female')\n",
    "\n",
    "if highlevel.write_edf(f'{self.file_name}_filtered.edf', signals, signal_headers, header):\n",
    "    print(\"The file has been successfully saved.\")\n",
    "else:\n",
    "    print(\"Something went wrong with the saving process.\")"
   ]
  },
  {
   "cell_type": "code",
   "execution_count": null,
   "metadata": {},
   "outputs": [],
   "source": [
    "help(pyedflib.EdfWriter)"
   ]
  },
  {
   "cell_type": "code",
   "execution_count": 23,
   "metadata": {},
   "outputs": [],
   "source": [
    "output_file_path = Path(r\"data/filtered/\")"
   ]
  },
  {
   "cell_type": "code",
   "execution_count": 24,
   "metadata": {},
   "outputs": [
    {
     "ename": "OSError",
     "evalue": "file has already been opened",
     "output_type": "error",
     "traceback": [
      "\u001b[0;31m---------------------------------------------------------------------------\u001b[0m",
      "\u001b[0;31mOSError\u001b[0m                                   Traceback (most recent call last)",
      "Cell \u001b[0;32mIn[24], line 1\u001b[0m\n\u001b[0;32m----> 1\u001b[0m files[\u001b[39m-\u001b[39;49m\u001b[39m2\u001b[39;49m]\u001b[39m.\u001b[39;49msave_edf_filtered(output_file_path, filtered_signals)\n",
      "Cell \u001b[0;32mIn[18], line 47\u001b[0m, in \u001b[0;36mEDFFile.save_edf_filtered\u001b[0;34m(self, output_path, signals)\u001b[0m\n\u001b[1;32m     45\u001b[0m \u001b[39mdef\u001b[39;00m \u001b[39msave_edf_filtered\u001b[39m(\u001b[39mself\u001b[39m, output_path: Path, signals: np\u001b[39m.\u001b[39mndarray):\n\u001b[1;32m     46\u001b[0m     \u001b[39m# Create a new EDF file to write the modified signals into\u001b[39;00m\n\u001b[0;32m---> 47\u001b[0m     new_file \u001b[39m=\u001b[39m pyedflib\u001b[39m.\u001b[39;49mEdfWriter(\u001b[39mfr\u001b[39;49m\u001b[39m'\u001b[39;49m\u001b[39mdata/filtered/\u001b[39;49m\u001b[39m{\u001b[39;49;00m\u001b[39mself\u001b[39;49m\u001b[39m.\u001b[39;49mfile_name\u001b[39m}\u001b[39;49;00m\u001b[39m.edf\u001b[39;49m\u001b[39m'\u001b[39;49m, n_channels\u001b[39m=\u001b[39;49m\u001b[39mself\u001b[39;49m\u001b[39m.\u001b[39;49mnum_signals, file_type\u001b[39m=\u001b[39;49mpyedflib\u001b[39m.\u001b[39;49mFILETYPE_EDFPLUS)\n\u001b[1;32m     49\u001b[0m     new_file\u001b[39m.\u001b[39msetHeader(\u001b[39mself\u001b[39m\u001b[39m.\u001b[39mfile_handle\u001b[39m.\u001b[39mgetHeader())\n\u001b[1;32m     51\u001b[0m     \u001b[39mfor\u001b[39;00m channel, signal \u001b[39min\u001b[39;00m \u001b[39menumerate\u001b[39m(signals):\n\u001b[1;32m     52\u001b[0m         \u001b[39m# Write the modified signal to the new file\u001b[39;00m\n",
      "File \u001b[0;32m~/.pyenv/versions/3.9.6/envs/AFE/lib/python3.9/site-packages/pyedflib/edfwriter.py:223\u001b[0m, in \u001b[0;36mEdfWriter.__init__\u001b[0;34m(self, file_name, n_channels, file_type)\u001b[0m\n\u001b[1;32m    221\u001b[0m \u001b[39mself\u001b[39m\u001b[39m.\u001b[39mhandle \u001b[39m=\u001b[39m open_file_writeonly(\u001b[39mself\u001b[39m\u001b[39m.\u001b[39mpath, \u001b[39mself\u001b[39m\u001b[39m.\u001b[39mfile_type, \u001b[39mself\u001b[39m\u001b[39m.\u001b[39mn_channels)\n\u001b[1;32m    222\u001b[0m \u001b[39mif\u001b[39;00m (\u001b[39mself\u001b[39m\u001b[39m.\u001b[39mhandle \u001b[39m<\u001b[39m \u001b[39m0\u001b[39m):\n\u001b[0;32m--> 223\u001b[0m     \u001b[39mraise\u001b[39;00m \u001b[39mIOError\u001b[39;00m(write_errors[\u001b[39mself\u001b[39m\u001b[39m.\u001b[39mhandle])\n\u001b[1;32m    224\u001b[0m \u001b[39mself\u001b[39m\u001b[39m.\u001b[39m_enforce_record_duration \u001b[39m=\u001b[39m \u001b[39mFalse\u001b[39;00m\n",
      "\u001b[0;31mOSError\u001b[0m: file has already been opened"
     ]
    }
   ],
   "source": [
    "files[-2].save_edf_filtered(output_file_path, filtered_signals)"
   ]
  },
  {
   "cell_type": "code",
   "execution_count": null,
   "metadata": {},
   "outputs": [],
   "source": [
    "for file in files:\n",
    "    file.close()"
   ]
  },
  {
   "cell_type": "code",
   "execution_count": null,
   "metadata": {},
   "outputs": [],
   "source": [
    "len(files[-2].signals)"
   ]
  },
  {
   "cell_type": "code",
   "execution_count": null,
   "metadata": {},
   "outputs": [],
   "source": [
    "new_file = pyedflib.EdfWriter(r'data/filtered/test.edf', n_channels=len(files[-2].signals), file_type=pyedflib.FILETYPE_EDFPLUS)\n",
    "        \n",
    "new_file.setHeader(files[-2].file_handle.getHeader())\n",
    "\n",
    "new_file.close()"
   ]
  }
 ],
 "metadata": {
  "kernelspec": {
   "display_name": "base",
   "language": "python",
   "name": "python3"
  },
  "language_info": {
   "codemirror_mode": {
    "name": "ipython",
    "version": 3
   },
   "file_extension": ".py",
   "mimetype": "text/x-python",
   "name": "python",
   "nbconvert_exporter": "python",
   "pygments_lexer": "ipython3",
   "version": "3.9.6"
  },
  "orig_nbformat": 4
 },
 "nbformat": 4,
 "nbformat_minor": 2
}
