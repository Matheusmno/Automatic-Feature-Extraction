{
 "cells": [
  {
   "attachments": {},
   "cell_type": "markdown",
   "metadata": {},
   "source": [
    "# Libraries"
   ]
  },
  {
   "cell_type": "code",
   "execution_count": 1,
   "metadata": {},
   "outputs": [],
   "source": [
    "import EDF_wrapper\n",
    "import annotations_validation as av\n",
    "import annotations_extraction as ae\n",
    "import filters\n",
    "import pyedflib\n",
    "from pathlib import Path\n",
    "import pandas as pd\n",
    "import numpy as np\n",
    "import os"
   ]
  },
  {
   "cell_type": "code",
   "execution_count": 2,
   "metadata": {},
   "outputs": [],
   "source": [
    "data_root_path = \"/Users/matheusnoschang/Programming/Repos/Automatic-Feature-Extraction/\"\n",
    "filelist_csv_path = '/Users/matheusnoschang/Programming/Repos/Automatic-Feature-Extraction/data/local_file_list.csv'"
   ]
  },
  {
   "cell_type": "code",
   "execution_count": 6,
   "metadata": {},
   "outputs": [],
   "source": [
    "def extract_features_from_filelist(filelist_csv_path: str, data_root_path: str, output_path=None, signal_labels_to_extract=['BI1', 'EMG1']):\n",
    "    if output_path is None:\n",
    "        output_path = data_root_path + \"data/features\"\n",
    "    files = EDF_wrapper.read_files_from_csv_filelist(data_root_path, filelist_csv_path)\n",
    "    os.makedirs(output_path, exist_ok=True)\n",
    "    ae.save_features_excel_files(files, csv=True, output_path=output_path,\n",
    "                                    signal_labels_to_extract=signal_labels_to_extract)\n",
    "    \n",
    "def extract_features_from_folder(folder_path: str, output_path=None, signal_labels_to_extract=['BI1', 'EMG1']):\n",
    "    if output_path is None:\n",
    "        output_path = \"data/features\"\n",
    "    files = EDF_wrapper.read_files_from_dir(folder_path)\n",
    "    os.makedirs(output_path, exist_ok=True)\n",
    "    ae.save_features_excel_files(files, output_path=output_path,\n",
    "                                    signal_labels_to_extract=signal_labels_to_extract\n",
    "                                    )"
   ]
  },
  {
   "cell_type": "code",
   "execution_count": 7,
   "metadata": {},
   "outputs": [
    {
     "name": "stdout",
     "output_type": "stream",
     "text": [
      "The annotations dataframe is empty.\n",
      "The annotations dataframe is empty.\n"
     ]
    },
    {
     "name": "stderr",
     "output_type": "stream",
     "text": [
      "Feature Extraction: 100%|██████████| 6/6 [00:09<00:00,  1.65s/it]\n"
     ]
    },
    {
     "name": "stdout",
     "output_type": "stream",
     "text": [
      "There are 2 annotations out of the pattern.\n",
      "The annotations dataframe is empty.\n",
      "The annotations dataframe is empty.\n"
     ]
    },
    {
     "name": "stderr",
     "output_type": "stream",
     "text": [
      "Feature Extraction: 100%|██████████| 6/6 [00:13<00:00,  2.33s/it]"
     ]
    },
    {
     "name": "stdout",
     "output_type": "stream",
     "text": [
      "There are 1 annotations out of the pattern.\n",
      "The annotations dataframe is empty.\n",
      "The annotations dataframe is empty.\n"
     ]
    },
    {
     "name": "stderr",
     "output_type": "stream",
     "text": [
      "\n",
      "Feature Extraction: 100%|██████████| 9/9 [00:11<00:00,  1.23s/it]"
     ]
    },
    {
     "name": "stdout",
     "output_type": "stream",
     "text": [
      "The annotations dataframe is empty.\n",
      "The annotations dataframe is empty.\n"
     ]
    },
    {
     "name": "stderr",
     "output_type": "stream",
     "text": [
      "\n",
      "Feature Extraction: 100%|██████████| 6/6 [00:09<00:00,  1.59s/it]"
     ]
    },
    {
     "name": "stdout",
     "output_type": "stream",
     "text": [
      "The annotations dataframe is empty.\n",
      "The annotations dataframe is empty.\n"
     ]
    },
    {
     "name": "stderr",
     "output_type": "stream",
     "text": [
      "\n",
      "Feature Extraction: 100%|██████████| 3/3 [00:04<00:00,  1.63s/it]"
     ]
    },
    {
     "name": "stdout",
     "output_type": "stream",
     "text": [
      "The annotations dataframe is empty.\n",
      "The annotations dataframe is empty.\n"
     ]
    },
    {
     "name": "stderr",
     "output_type": "stream",
     "text": [
      "\n",
      "Feature Extraction: 100%|██████████| 6/6 [00:06<00:00,  1.16s/it]\n"
     ]
    }
   ],
   "source": [
    "extract_features_from_folder('/Users/matheusnoschang/Programming/Repos/Automatic-Feature-Extraction/data/annotated', '/Users/matheusnoschang/Programming/Repos/Automatic-Feature-Extraction/data/features/folder')"
   ]
  },
  {
   "cell_type": "code",
   "execution_count": 5,
   "metadata": {},
   "outputs": [
    {
     "name": "stdout",
     "output_type": "stream",
     "text": [
      "The annotations dataframe is empty.\n",
      "The annotations dataframe is empty.\n"
     ]
    },
    {
     "name": "stderr",
     "output_type": "stream",
     "text": [
      "Feature Extraction: 100%|██████████| 6/6 [00:08<00:00,  1.49s/it]\n"
     ]
    },
    {
     "name": "stdout",
     "output_type": "stream",
     "text": [
      "There are 1 annotations out of the pattern.\n",
      "The annotations dataframe is empty.\n",
      "The annotations dataframe is empty.\n"
     ]
    },
    {
     "name": "stderr",
     "output_type": "stream",
     "text": [
      "Feature Extraction: 100%|██████████| 9/9 [00:12<00:00,  1.43s/it]\n"
     ]
    },
    {
     "name": "stdout",
     "output_type": "stream",
     "text": [
      "There are 2 annotations out of the pattern.\n",
      "The annotations dataframe is empty.\n",
      "The annotations dataframe is empty.\n"
     ]
    },
    {
     "name": "stderr",
     "output_type": "stream",
     "text": [
      "Feature Extraction: 100%|██████████| 6/6 [00:14<00:00,  2.44s/it]\n"
     ]
    },
    {
     "name": "stdout",
     "output_type": "stream",
     "text": [
      "The annotations dataframe is empty.\n",
      "The annotations dataframe is empty.\n"
     ]
    },
    {
     "name": "stderr",
     "output_type": "stream",
     "text": [
      "Feature Extraction: 100%|██████████| 3/3 [00:05<00:00,  1.70s/it]"
     ]
    },
    {
     "name": "stdout",
     "output_type": "stream",
     "text": [
      "The annotations dataframe is empty.\n",
      "The annotations dataframe is empty.\n"
     ]
    },
    {
     "name": "stderr",
     "output_type": "stream",
     "text": [
      "\n",
      "Feature Extraction: 100%|██████████| 6/6 [00:11<00:00,  1.92s/it]"
     ]
    },
    {
     "name": "stdout",
     "output_type": "stream",
     "text": [
      "The annotations dataframe is empty.\n",
      "The annotations dataframe is empty.\n"
     ]
    },
    {
     "name": "stderr",
     "output_type": "stream",
     "text": [
      "\n",
      "Feature Extraction: 100%|██████████| 6/6 [00:08<00:00,  1.49s/it]\n"
     ]
    }
   ],
   "source": [
    "extract_features_from_filelist(filelist_csv_path, data_root_path)"
   ]
  },
  {
   "cell_type": "code",
   "execution_count": null,
   "metadata": {},
   "outputs": [],
   "source": [
    "fileslist = EDF_wrapper.read_files_from_csv_filelist(Path('data/local_file_list.csv'), load_files=True)\n",
    "len(fileslist)"
   ]
  },
  {
   "cell_type": "code",
   "execution_count": null,
   "metadata": {},
   "outputs": [],
   "source": [
    "directory = Path(\"data/annotated/\")\n",
    "files = EDF_wrapper.read_files_from_dir(directory, load_files=True)\n",
    "len(files)"
   ]
  },
  {
   "cell_type": "markdown",
   "metadata": {},
   "source": [
    "ae.add_swallow_annotations_to_files(fileslist, output_path=\"data/xlsx/filelist/\")"
   ]
  },
  {
   "cell_type": "code",
   "execution_count": null,
   "metadata": {},
   "outputs": [],
   "source": [
    "ae.save_features_excel_files(fileslist[:2], csv=True, output_path=\"data/xlsx/filelist/\",\n",
    "                                       signal_labels_to_extract=['BI1', 'EMG1'],\n",
    "                                       \n",
    "                                       )"
   ]
  },
  {
   "cell_type": "code",
   "execution_count": null,
   "metadata": {},
   "outputs": [],
   "source": [
    "ae.save_directory_features_excel_files(files, output_path=\"data/xlsx/folderpath/\",\n",
    "                                       #signal_labels_to_extract=['BI1', 'EMG1']\n",
    "                                       )"
   ]
  },
  {
   "cell_type": "markdown",
   "metadata": {},
   "source": [
    "---"
   ]
  },
  {
   "cell_type": "markdown",
   "metadata": {},
   "source": [
    "### Unit tests"
   ]
  },
  {
   "cell_type": "code",
   "execution_count": null,
   "metadata": {},
   "outputs": [],
   "source": [
    "ann_file = files[1]  \n",
    "ann_file[\"header\"][\"annotations\"] = list(map(lambda x: [x[0], x[1], x[2].lower()], ann_file[\"header\"][\"annotations\"]))\n",
    "ann_file[\"header\"][\"annotations\"]"
   ]
  },
  {
   "cell_type": "code",
   "execution_count": null,
   "metadata": {},
   "outputs": [],
   "source": [
    "general_df = ae.create_annotations_df(ann_file, 'general')\n",
    "swallows_df = ae.create_annotations_df(ann_file, 'swallows')"
   ]
  },
  {
   "cell_type": "code",
   "execution_count": null,
   "metadata": {},
   "outputs": [],
   "source": [
    "swallows_df[swallows_df.data_label.isin(['BI1', 'EMG1'])]"
   ]
  },
  {
   "cell_type": "code",
   "execution_count": null,
   "metadata": {},
   "outputs": [],
   "source": [
    "swallows_df.head(10)"
   ]
  },
  {
   "cell_type": "code",
   "execution_count": null,
   "metadata": {},
   "outputs": [],
   "source": [
    "swallows_df = ae.add_basic_swallow_features(swallows_df)"
   ]
  },
  {
   "cell_type": "code",
   "execution_count": null,
   "metadata": {},
   "outputs": [],
   "source": [
    "df = ae.add_tsfresh_features(swallows_df)\n",
    "df.shape"
   ]
  },
  {
   "cell_type": "code",
   "execution_count": null,
   "metadata": {},
   "outputs": [],
   "source": [
    "df.to_excel(f\"data/xlsx/{Path(ann_file['filepath']).stem}.xlsx\", index=False)"
   ]
  },
  {
   "cell_type": "code",
   "execution_count": null,
   "metadata": {},
   "outputs": [],
   "source": [
    "def save_directory_features_excel_files(file_list, output_path=\"data/xlsx/\", signal_labels_to_extract=None):\n",
    "\n",
    "    dir_general_features = pd.DataFrame()\n",
    "    dir_basic_swallow_features = pd.DataFrame()\n",
    "    dir_tsfresh_swallow_features = pd.DataFrame()\n",
    "\n",
    "    for edf_file in file_list:\n",
    "        if av.check_annotations(edf_file):\n",
    "            # Create general features excel file\n",
    "            general_df = ae.create_annotations_df(edf_file, 'general', signal_labels_to_extract=signal_labels_to_extract)\n",
    "            general_df_fe = ae.add_basic_general_features(general_df)\n",
    "            general_df_fe = ae.add_tsfresh_features(general_df_fe)\n",
    "            \n",
    "            # Create baisc swallow features and tsfresh features excel files\n",
    "            swallows_df = ae.create_annotations_df(edf_file, 'swallows', signal_labels_to_extract=signal_labels_to_extract)\n",
    "            basic_swallows_df_fe = ae.add_basic_swallow_features(swallows_df.copy())\n",
    "            #basic_swallows_df_fe = basic_swallows_df_fe\n",
    "            ts_fresh_swallows_df_fe = ae.add_tsfresh_features(swallows_df)\n",
    "            if general_df_fe is not None:\n",
    "                dir_general_features = pd.concat([dir_general_features, general_df_fe], axis=0)\n",
    "                #general_df_fe.to_excel(f\"data/xlsx/{Path(edf_file['filepath']).stem}_general_features.xlsx\", index=False)\n",
    "            if basic_swallows_df_fe is not None:\n",
    "                dir_basic_swallow_features = pd.concat([dir_basic_swallow_features, basic_swallows_df_fe], axis=0)\n",
    "                #swallows_df_fe.to_excel(f\"data/xlsx/{Path(edf_file['filepath']).stem}_basic_swallow_features.xlsx\", index=False)\n",
    "            if ts_fresh_swallows_df_fe is not None:\n",
    "                dir_tsfresh_swallow_features = pd.concat([dir_tsfresh_swallow_features, ts_fresh_swallows_df_fe], axis=0)\n",
    "                #swallows_df_fe.to_excel(f\"data/xlsx/{Path(edf_file['filepath']).stem}_ts_fresh_swallow_features.xlsx\", index=False)\n",
    "\n",
    "    if not dir_general_features.empty:\n",
    "        dir_general_features.drop(['ann_id'], axis=1, inplace=True)\n",
    "        dir_general_features.to_excel(output_path + \"general_features.xlsx\", index=False)\n",
    "    if not dir_basic_swallow_features.empty:\n",
    "        dir_basic_swallow_features.drop(['data_label'], axis=1, inplace=True)\n",
    "        dir_basic_swallow_features.to_excel(output_path + \"basic_swallow_features.xlsx\", index=False)\n",
    "    if not dir_tsfresh_swallow_features.empty:\n",
    "        dir_tsfresh_swallow_features.drop(['ann_id'], axis=1, inplace=True)\n",
    "        dir_tsfresh_swallow_features.to_excel(output_path + \"tsfresh_swallow_features.xlsx\", index=False)"
   ]
  }
 ],
 "metadata": {
  "kernelspec": {
   "display_name": "base",
   "language": "python",
   "name": "python3"
  },
  "language_info": {
   "codemirror_mode": {
    "name": "ipython",
    "version": 3
   },
   "file_extension": ".py",
   "mimetype": "text/x-python",
   "name": "python",
   "nbconvert_exporter": "python",
   "pygments_lexer": "ipython3",
   "version": "3.9.6"
  },
  "orig_nbformat": 4
 },
 "nbformat": 4,
 "nbformat_minor": 2
}
