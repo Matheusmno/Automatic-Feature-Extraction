{
 "cells": [
  {
   "attachments": {},
   "cell_type": "markdown",
   "metadata": {},
   "source": [
    "# Libraries"
   ]
  },
  {
   "cell_type": "code",
   "execution_count": 1,
   "metadata": {},
   "outputs": [],
   "source": [
    "import pyedflib\n",
    "#from pyedflib import highlevel\n",
    "import plotly.express as px\n",
    "from pathlib import Path\n",
    "import os\n",
    "import numpy as np\n",
    "from scipy.signal import butter, filtfilt"
   ]
  },
  {
   "attachments": {},
   "cell_type": "markdown",
   "metadata": {},
   "source": [
    "# EDF wrapper"
   ]
  },
  {
   "cell_type": "code",
   "execution_count": 2,
   "metadata": {},
   "outputs": [],
   "source": [
    "class EDFFile:\n",
    "    def __init__(self, file: Path):\n",
    "        self.file_path = file.absolute().as_posix()\n",
    "        self.file_name = file.name\n",
    "        self.file_handle = pyedflib.EdfReader(self.file_path)\n",
    "        self.file_header = self.file_handle.getHeader()\n",
    "        self.signal_headers = None\n",
    "        self.num_signals = self.file_handle.signals_in_file\n",
    "        self.sample_frequency = None\n",
    "        self.signals = []\n",
    "        self.annotations = []\n",
    "        \n",
    "        self.load_raw_signals()\n",
    "        self.load_signal_headers()\n",
    "        self.load_annotations()\n",
    "        self.load_sample_frequency()\n",
    "        \n",
    "        self.close()\n",
    "        \n",
    "    def load_raw_signals(self):\n",
    "        \n",
    "        for i in range(self.num_signals):\n",
    "            signal_buffer = self.file_handle.readSignal(i)\n",
    "            self.signals.append(signal_buffer)\n",
    "    \n",
    "    def load_signal_headers(self):\n",
    "        if self.file_handle is None:\n",
    "            self.file_handle = pyedflib.EdfReader(self.file_path)\n",
    "\n",
    "        self.signal_headers = self.file_handle.getSignalHeaders()\n",
    "\n",
    "    def load_annotations(self):\n",
    "        if self.file_handle is None:\n",
    "            self.file_handle = pyedflib.EdfReader(self.file_path)\n",
    "        \n",
    "        self.annotations = self.file_handle.readAnnotations()\n",
    "\n",
    "    def load_sample_frequency(self):\n",
    "        if self.file_handle is None:\n",
    "            self.file_handle = pyedflib.EdfReader(self.file_path)\n",
    "        \n",
    "        self.sample_frequency = self.file_handle.getSampleFrequencies()[0]\n",
    "        \n",
    "        return self.sample_frequency\n",
    "    \n",
    "    def save_edf_filtered(self, output_path: Path, signals: np.ndarray):\n",
    "        # Create a new EDF file to write the modified signals into\n",
    "        new_file = pyedflib.EdfWriter(output_path / f'{self.file_name}.edf', n_channels=self.num_signals, file_type=pyedflib.FILETYPE_EDFPLUS)\n",
    "        \n",
    "        new_file.setHeader(self.file_handle.getHeader())\n",
    "        \n",
    "        for channel, signal in enumerate(signals):\n",
    "            # Write the modified signal to the new file\n",
    "            new_file.writeSamples(channel, signal)\n",
    "            new_file.setSignalHeader()\n",
    "            \n",
    "        new_file.close()\n",
    "        \n",
    "    def close(self):\n",
    "        if self.file_handle is not None:\n",
    "            self.file_handle.close()\n",
    "            self.file_handle = None"
   ]
  },
  {
   "cell_type": "code",
   "execution_count": 3,
   "metadata": {},
   "outputs": [],
   "source": [
    "def read_files_from_dir(directory: Path):\n",
    "    extensions = [\"edf\", \"bdf\"]\n",
    "\n",
    "    return [Path(file) for file in os.scandir(directory) \n",
    "            if file.is_file() and file.name.endswith(tuple(extensions))]"
   ]
  },
  {
   "cell_type": "code",
   "execution_count": 4,
   "metadata": {},
   "outputs": [],
   "source": [
    "def save_filtered_file(file: Path, filtered_signals: np.ndarray, output_path: str=\"data/filtered/\"):\n",
    "    original_file = pyedflib.EdfReader(file.absolute().as_posix())\n",
    "\n",
    "    # Create a new EDF file to write the modified signals into\n",
    "    new_file = pyedflib.EdfWriter(output_path + f'{file.stem}.bdf',\n",
    "                                  n_channels=original_file.signals_in_file,\n",
    "                                  file_type=pyedflib.FILETYPE_BDF)\n",
    "\n",
    "    # Keeping both header and signal headers unmodified\n",
    "    new_file.setHeader(original_file.getHeader())\n",
    "    new_file.setSignalHeaders(original_file.getSignalHeaders())\n",
    "\n",
    "    # Write the filtered signals to new file\n",
    "    new_file.writeSamples(filtered_signals)\n",
    "\n",
    "    new_file.close()\n",
    "    original_file.close()"
   ]
  },
  {
   "attachments": {},
   "cell_type": "markdown",
   "metadata": {},
   "source": [
    "# Filter design"
   ]
  },
  {
   "cell_type": "code",
   "execution_count": 5,
   "metadata": {},
   "outputs": [],
   "source": [
    "def apply_butterworth(signal:np.ndarray, fs:float, f_type:str=\"high\", cutoff:int=15, order:int=3) -> np.ndarray:\n",
    "    nyquist = 0.5 * fs\n",
    "    normalized_cutoff = cutoff / nyquist\n",
    "    b, a = butter(order, normalized_cutoff, btype=f_type, analog=False)\n",
    "    \n",
    "    return np.array(filtfilt(b, a, signal))\n",
    "\n",
    "def apply_notch_filter(signal:np.ndarray, notch_freq: float, fs: float) -> np.ndarray:\n",
    "    nyquist = 0.5 * fs\n",
    "    notch_normalized = notch_freq / nyquist\n",
    "    b, a = butter(2, [notch_normalized - 0.02, notch_normalized + 0.02], btype='bandstop', analog=False)\n",
    "    \n",
    "    return np.array(filtfilt(b, a, signal))"
   ]
  },
  {
   "attachments": {},
   "cell_type": "markdown",
   "metadata": {},
   "source": [
    "# Testing zone"
   ]
  },
  {
   "cell_type": "code",
   "execution_count": 6,
   "metadata": {},
   "outputs": [],
   "source": [
    "directory = Path(\"data/edf/\")\n",
    "files = read_files_from_dir(directory)"
   ]
  },
  {
   "attachments": {},
   "cell_type": "markdown",
   "metadata": {},
   "source": [
    "## Save EDF file filtered/file.name"
   ]
  },
  {
   "cell_type": "code",
   "execution_count": 7,
   "metadata": {},
   "outputs": [],
   "source": [
    "file = files[-2]"
   ]
  },
  {
   "cell_type": "code",
   "execution_count": 11,
   "metadata": {},
   "outputs": [],
   "source": [
    "original_file = pyedflib.EdfReader(file.absolute().as_posix())\n",
    "signals = [original_file.readSignal(i) for i in range(original_file.signals_in_file)] # Should be passed as parameter\n",
    "filtered_signals = [apply_butterworth(signals[0], original_file.getSampleFrequencies()[0], \"low\"), signals[1], signals[2]]\n",
    "original_file.close()"
   ]
  },
  {
   "cell_type": "code",
   "execution_count": 12,
   "metadata": {},
   "outputs": [
    {
     "data": {
      "text/plain": [
       "[array([8.49616876, 8.51417533, 8.44415179, ..., 8.87725704, 8.89326089,\n",
       "        8.90426093]),\n",
       " array([6.12751133, 6.12201817, 6.11863858, ..., 5.03062904, 5.03252983,\n",
       "        5.03506541]),\n",
       " array([-3.33334525, -3.33335002, -3.33335479, ..., -3.33358248,\n",
       "        -3.33357175, -3.33355506])]"
      ]
     },
     "execution_count": 12,
     "metadata": {},
     "output_type": "execute_result"
    }
   ],
   "source": [
    "signals"
   ]
  },
  {
   "cell_type": "code",
   "execution_count": 13,
   "metadata": {},
   "outputs": [
    {
     "data": {
      "text/plain": [
       "[array([8.60658443, 8.60670537, 8.60683136, ..., 8.88143085, 8.88143063,\n",
       "        8.88143045]),\n",
       " array([6.12751133, 6.12201817, 6.11863858, ..., 5.03062904, 5.03252983,\n",
       "        5.03506541]),\n",
       " array([-3.33334525, -3.33335002, -3.33335479, ..., -3.33358248,\n",
       "        -3.33357175, -3.33355506])]"
      ]
     },
     "execution_count": 13,
     "metadata": {},
     "output_type": "execute_result"
    }
   ],
   "source": [
    "filtered_signals"
   ]
  },
  {
   "cell_type": "code",
   "execution_count": 14,
   "metadata": {},
   "outputs": [],
   "source": [
    "save_filtered_file(file, filtered_signals)"
   ]
  },
  {
   "attachments": {},
   "cell_type": "markdown",
   "metadata": {},
   "source": [
    "### Check if file has been saved properly"
   ]
  },
  {
   "cell_type": "code",
   "execution_count": 15,
   "metadata": {},
   "outputs": [],
   "source": [
    "filtered_file = pyedflib.EdfReader(\"data/filtered/noisy_emg_powerline.bdf\")"
   ]
  },
  {
   "cell_type": "code",
   "execution_count": 16,
   "metadata": {},
   "outputs": [
    {
     "data": {
      "text/plain": [
       "[array([8.60658637, 8.60670558, 8.60683373, ..., 8.88143235, 8.88143235,\n",
       "        8.88143235]),\n",
       " array([6.12751133, 6.12201638, 6.11863679, ..., 5.03062904, 5.03252983,\n",
       "        5.03506541]),\n",
       " array([-3.33334525, -3.33335002, -3.33335479, ..., -3.33358248,\n",
       "        -3.33357175, -3.33355506])]"
      ]
     },
     "execution_count": 16,
     "metadata": {},
     "output_type": "execute_result"
    }
   ],
   "source": [
    "test_signals = [filtered_file.readSignal(i) for i in range(filtered_file.signals_in_file)]\n",
    "test_signals"
   ]
  },
  {
   "cell_type": "code",
   "execution_count": 17,
   "metadata": {},
   "outputs": [],
   "source": [
    "filtered_file.close()"
   ]
  }
 ],
 "metadata": {
  "kernelspec": {
   "display_name": "base",
   "language": "python",
   "name": "python3"
  },
  "language_info": {
   "codemirror_mode": {
    "name": "ipython",
    "version": 3
   },
   "file_extension": ".py",
   "mimetype": "text/x-python",
   "name": "python",
   "nbconvert_exporter": "python",
   "pygments_lexer": "ipython3",
   "version": "3.9.13"
  },
  "orig_nbformat": 4
 },
 "nbformat": 4,
 "nbformat_minor": 2
}
